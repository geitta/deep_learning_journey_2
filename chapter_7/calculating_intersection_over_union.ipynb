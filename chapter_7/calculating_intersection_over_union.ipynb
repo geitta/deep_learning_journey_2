{
  "nbformat": 4,
  "nbformat_minor": 0,
  "metadata": {
    "colab": {
      "provenance": []
    },
    "kernelspec": {
      "name": "python3",
      "display_name": "Python 3"
    },
    "language_info": {
      "name": "python"
    }
  },
  "cells": [
    {
      "cell_type": "code",
      "execution_count": 3,
      "metadata": {
        "id": "4Yg6RcOHZLtX"
      },
      "outputs": [],
      "source": [
        "def get_iou(boxA, boxB, epsilon=1e-5):\n",
        "  # epsilon parameter to address the rare scenario where the union between the two boxes is 0, resulting in a division by zero error\n",
        "\n",
        "  #calculate the coordinates if the intersection box\n",
        "  # x1 stores the maximum value of the left-most value of x btn the two bounding boxes\n",
        "  x1 = max(boxA[0], boxB[0])\n",
        "  # top most y value\n",
        "  y1 = max(boxA[1], boxB[1])\n",
        "  # right most x value\n",
        "  x2 = min(boxA[2], boxB[2])\n",
        "  #bottom most y value\n",
        "  y2 = min(boxA[3], boxB[3])\n",
        "  # calculate the width and the height of the overlapping region\n",
        "  width = (x2 - x1)\n",
        "  height = (y2 - y1)\n",
        "  if (width<0) or (height<0):\n",
        "    return 0.0\n",
        "  area_overlap = width * height\n",
        "  # calculate the combine area corresponding to the two bounding boxes\n",
        "  area_a = (boxA[2] - boxA[0]) * (boxA[3] - boxA[1])\n",
        "  area_b = (boxB[2] - boxB[0]) * (boxB[3] - boxB[1])\n",
        "  area_combined = area_a + area_b - area_overlap\n",
        "  iou = area_overlap / (area_combined + epsilon)\n",
        "  return iou"
      ]
    },
    {
      "cell_type": "code",
      "source": [],
      "metadata": {
        "id": "CgU8dAOla6uH"
      },
      "execution_count": null,
      "outputs": []
    }
  ]
}