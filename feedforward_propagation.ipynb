{
 "cells": [
  {
   "metadata": {
    "collapsed": true
   },
   "cell_type": "markdown",
   "source": [
    "A high-level strategy for coding feedforward propagation is as follows:\n",
    " * Perform a sum product at each neuron.\n",
    " * Compute activation.\n",
    " * Repeat the first two steps at each neuron until the output layer.\n",
    "  *  Compute the loss by comparing the prediction with the actual output\n",
    "\n",
    "The feedforward function takes in input data, current neural network\n",
    " weights, and output data as the inputs and returns the loss of the current\n",
    " network state as output.m"
   ],
   "id": "5fdfc8733da15369"
  },
  {
   "metadata": {
    "ExecuteTime": {
     "end_time": "2025-10-05T08:51:53.721958Z",
     "start_time": "2025-10-05T08:51:49.021854Z"
    }
   },
   "cell_type": "code",
   "source": [
    "import numpy as np\n",
    "from sklearn.metrics import mean_squared_error\n",
    "\n",
    "\n",
    "def feed_forward(inputs, outputs, weights):\n",
    "    pre_hidden = np.dot(inputs, weights[0] + weights[1])\n",
    "    hidden = 1/(1+np.exp(-pre_hidden))\n",
    "    pred_out = np.dot(hidden, weights[2]) + weights[3]\n",
    "    mean_squared_error = np.mean(np.square(pred_out - outputs))\n",
    "    return mean_squared_error"
   ],
   "id": "eb582b6bc8a251e",
   "outputs": [],
   "execution_count": 2
  },
  {
   "metadata": {
    "ExecuteTime": {
     "end_time": "2025-10-05T08:59:52.409705Z",
     "start_time": "2025-10-05T08:59:52.374032Z"
    }
   },
   "cell_type": "code",
   "source": "feed_forward(1, 0, [3, 4, 5, 6])",
   "id": "ed730e4f4fc5044d",
   "outputs": [
    {
     "data": {
      "text/plain": [
       "120.8998051189729"
      ]
     },
     "execution_count": 6,
     "metadata": {},
     "output_type": "execute_result"
    }
   ],
   "execution_count": 6
  },
  {
   "metadata": {
    "ExecuteTime": {
     "end_time": "2025-10-05T09:00:40.378040Z",
     "start_time": "2025-10-05T09:00:40.358154Z"
    }
   },
   "cell_type": "markdown",
   "source": "activation functions in code",
   "id": "955052cac3e39567"
  },
  {
   "metadata": {
    "ExecuteTime": {
     "end_time": "2025-10-05T09:03:01.451493Z",
     "start_time": "2025-10-05T09:03:01.428062Z"
    }
   },
   "cell_type": "code",
   "source": [
    "def tanh(x):\n",
    "    return (np.exp(x) - np.exp(-x)) / (np.exp(x) + np.exp(-x))"
   ],
   "id": "32a776e55b2642f8",
   "outputs": [],
   "execution_count": 9
  },
  {
   "metadata": {
    "ExecuteTime": {
     "end_time": "2025-10-05T09:03:36.386475Z",
     "start_time": "2025-10-05T09:03:36.374426Z"
    }
   },
   "cell_type": "code",
   "source": [
    "def relu(x):\n",
    "    return np.where(x > 0, x, 0)"
   ],
   "id": "b170f42349e77eeb",
   "outputs": [],
   "execution_count": 10
  },
  {
   "metadata": {
    "ExecuteTime": {
     "end_time": "2025-10-05T09:04:21.083699Z",
     "start_time": "2025-10-05T09:04:21.060826Z"
    }
   },
   "cell_type": "code",
   "source": [
    "# linear activation of a value is the value itself\n",
    "def linear(x):\n",
    "    return x"
   ],
   "id": "3d245c31e142cb98",
   "outputs": [],
   "execution_count": 11
  },
  {
   "metadata": {
    "ExecuteTime": {
     "end_time": "2025-10-05T09:07:03.043050Z",
     "start_time": "2025-10-05T09:07:03.031798Z"
    }
   },
   "cell_type": "code",
   "source": [
    "def softmax(x):\n",
    "    return np.exp(x) / np.sum(np.exp(x))"
   ],
   "id": "2340fec0159e0b0c",
   "outputs": [],
   "execution_count": 12
  },
  {
   "metadata": {},
   "cell_type": "markdown",
   "source": "loss functions in code",
   "id": "c3ed52292b229643"
  },
  {
   "metadata": {
    "ExecuteTime": {
     "end_time": "2025-10-05T09:11:43.974983Z",
     "start_time": "2025-10-05T09:11:43.946493Z"
    }
   },
   "cell_type": "code",
   "source": [
    "# mean squared error between an array of predicted output values (p) and an array of actual output values (y)\n",
    "def mse(p, y):\n",
    "    return np.mean(np.square(p - y))\n",
    "# mean squared error is used when trying to predict a values that is continous in nature"
   ],
   "id": "84e27aa40fb98faa",
   "outputs": [],
   "execution_count": 14
  },
  {
   "metadata": {
    "ExecuteTime": {
     "end_time": "2025-10-05T09:12:41.132837Z",
     "start_time": "2025-10-05T09:12:41.125071Z"
    }
   },
   "cell_type": "code",
   "source": [
    "# mean absoulte error - generally\n",
    "def mae(p, y):\n",
    "    return np.mean(np.abs(p - y))"
   ],
   "id": "62cfee17c332d13d",
   "outputs": [],
   "execution_count": 15
  },
  {
   "metadata": {},
   "cell_type": "code",
   "outputs": [],
   "execution_count": null,
   "source": "",
   "id": "19e6c0f7be01891f"
  }
 ],
 "metadata": {
  "kernelspec": {
   "display_name": "Python 3",
   "language": "python",
   "name": "python3"
  },
  "language_info": {
   "codemirror_mode": {
    "name": "ipython",
    "version": 2
   },
   "file_extension": ".py",
   "mimetype": "text/x-python",
   "name": "python",
   "nbconvert_exporter": "python",
   "pygments_lexer": "ipython2",
   "version": "2.7.6"
  }
 },
 "nbformat": 4,
 "nbformat_minor": 5
}
